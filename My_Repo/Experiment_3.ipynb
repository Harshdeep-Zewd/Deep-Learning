{
  "nbformat": 4,
  "nbformat_minor": 0,
  "metadata": {
    "colab": {
      "provenance": [],
      "gpuType": "T4"
    },
    "kernelspec": {
      "name": "python3",
      "display_name": "Python 3"
    },
    "language_info": {
      "name": "python"
    },
    "accelerator": "GPU"
  },
  "cells": [
    {
      "cell_type": "code",
      "source": [
        "!mkdir ~/.kaggle\n",
        "!cp kaggle.json ~/.kaggle/"
      ],
      "metadata": {
        "id": "3P6Xp_WwHEG5"
      },
      "execution_count": null,
      "outputs": []
    },
    {
      "cell_type": "code",
      "source": [
        "!kaggle datasets download -d muhammeddalkran/catvnoncat"
      ],
      "metadata": {
        "colab": {
          "base_uri": "https://localhost:8080/"
        },
        "id": "_-NIrOO2HEVK",
        "outputId": "993e24f9-0548-4ff5-d170-ebc33408467e"
      },
      "execution_count": null,
      "outputs": [
        {
          "output_type": "stream",
          "name": "stdout",
          "text": [
            "Warning: Your Kaggle API key is readable by other users on this system! To fix this, you can run 'chmod 600 /root/.kaggle/kaggle.json'\n",
            "Downloading catvnoncat.zip to /content\n",
            "  0% 0.00/2.66M [00:00<?, ?B/s]\n",
            "100% 2.66M/2.66M [00:00<00:00, 165MB/s]\n"
          ]
        }
      ]
    },
    {
      "cell_type": "code",
      "source": [
        " !unzip /content/catvnoncat.zip\n"
      ],
      "metadata": {
        "colab": {
          "base_uri": "https://localhost:8080/"
        },
        "id": "23agPxeEHEaB",
        "outputId": "dbeca874-f717-4548-d0ac-cefd143fdb17"
      },
      "execution_count": null,
      "outputs": [
        {
          "output_type": "stream",
          "name": "stdout",
          "text": [
            "Archive:  /content/catvnoncat.zip\n",
            "  inflating: catvnoncat/test_catvnoncat.h5  \n",
            "  inflating: catvnoncat/train_catvnoncat.h5  \n"
          ]
        }
      ]
    },
    {
      "cell_type": "code",
      "source": [
        "%matplotlib inline\n",
        "import h5py\n",
        "import numpy as np\n",
        "import matplotlib.pyplot as plt"
      ],
      "metadata": {
        "id": "dQhgdKVZHEde"
      },
      "execution_count": null,
      "outputs": []
    },
    {
      "cell_type": "markdown",
      "source": [
        "LOAD DATA"
      ],
      "metadata": {
        "id": "GQcSIVbRgybm"
      }
    },
    {
      "cell_type": "code",
      "source": [
        "train_dataset = h5py.File('/content/catvnoncat/train_catvnoncat.h5', \"r\")\n",
        "test_dataset = h5py.File('/content/catvnoncat/test_catvnoncat.h5', \"r\")"
      ],
      "metadata": {
        "id": "Qt4Os_K2g4Ts"
      },
      "execution_count": null,
      "outputs": []
    },
    {
      "cell_type": "markdown",
      "source": [
        "CONVERT H5PY DATA INTO NUMPYDATA"
      ],
      "metadata": {
        "id": "3MFxyjdeiDZ9"
      }
    },
    {
      "cell_type": "code",
      "source": [
        "#train set features\n",
        "train_set_x_orig = np.array(train_dataset[\"train_set_x\"][:]) # features\n",
        "#train set labels\n",
        "train_set_y = np.array(train_dataset[\"train_set_y\"][:]) #labels"
      ],
      "metadata": {
        "id": "bqThzX_IMe-2"
      },
      "execution_count": null,
      "outputs": []
    },
    {
      "cell_type": "code",
      "source": [
        "#test set features\n",
        "test_set_x_orig = np.array(test_dataset[\"test_set_x\"][:]) # features\n",
        "#test set labels\n",
        "test_set_y = np.array(test_dataset[\"test_set_y\"][:]) # labels"
      ],
      "metadata": {
        "id": "mRwLHyqcPdJu"
      },
      "execution_count": null,
      "outputs": []
    },
    {
      "cell_type": "code",
      "source": [
        "print(train_set_x_orig.shape)\n",
        "print(train_set_y.shape)"
      ],
      "metadata": {
        "id": "ush9y2GJP7Y-",
        "colab": {
          "base_uri": "https://localhost:8080/"
        },
        "outputId": "cc80dde7-0e62-4eef-d2b3-5df6d691ac62"
      },
      "execution_count": null,
      "outputs": [
        {
          "output_type": "stream",
          "name": "stdout",
          "text": [
            "(209, 64, 64, 3)\n",
            "(209,)\n"
          ]
        }
      ]
    },
    {
      "cell_type": "code",
      "source": [
        "print(test_set_x_orig.shape)\n",
        "print(test_set_y.shape)"
      ],
      "metadata": {
        "id": "f3fflkS-P7cq",
        "colab": {
          "base_uri": "https://localhost:8080/"
        },
        "outputId": "1e6de26d-7f42-4869-a16f-503e470d0882"
      },
      "execution_count": null,
      "outputs": [
        {
          "output_type": "stream",
          "name": "stdout",
          "text": [
            "(50, 64, 64, 3)\n",
            "(50,)\n"
          ]
        }
      ]
    },
    {
      "cell_type": "markdown",
      "source": [
        "TRAINING DATA\n",
        "\n",
        "\n",
        "\n",
        "\n"
      ],
      "metadata": {
        "id": "fbIAzfLCk1sq"
      }
    },
    {
      "cell_type": "code",
      "source": [
        "train_set_x_flatten = train_set_x_orig.reshape(train_set_x_orig.shape[0],-1).T\n",
        "y = train_set_y.reshape((1,train_set_y.shape[0]))\n",
        "X = train_set_x_flatten/255\n"
      ],
      "metadata": {
        "id": "WPMBRukPP7le"
      },
      "execution_count": null,
      "outputs": []
    },
    {
      "cell_type": "markdown",
      "source": [
        "TESTING DATA\n",
        "\n",
        "\n",
        "\n"
      ],
      "metadata": {
        "id": "Pbl3HseqlVIB"
      }
    },
    {
      "cell_type": "code",
      "source": [
        "test_set_x_flatten = test_set_x_orig.reshape(test_set_x_orig.shape[0],-1).T\n",
        "y_test = test_set_y.reshape((1,test_set_y.shape[0]))\n",
        "X_test = test_set_x_flatten/255"
      ],
      "metadata": {
        "id": "mLrXp0UGYGX8"
      },
      "execution_count": null,
      "outputs": []
    },
    {
      "cell_type": "code",
      "source": [
        "nx,m_train = X.shape\n",
        "nh=4\n",
        "ny=y.shape[0]   #size of output layer"
      ],
      "metadata": {
        "id": "L1u_NvFo72e8"
      },
      "execution_count": null,
      "outputs": []
    },
    {
      "cell_type": "code",
      "source": [
        "np.random.seed(2)\n",
        "\n",
        "W1=np.random.randn(nh,nx)*0.01\n",
        "b1=np.zeros(shape=(nh,1))\n",
        "W2=np.random.randn(ny,nh)*0.01\n",
        "b2=np.zeros(shape=(ny,1))\n"
      ],
      "metadata": {
        "id": "f2-2Yp0H8MLa"
      },
      "execution_count": null,
      "outputs": []
    },
    {
      "cell_type": "code",
      "source": [
        "assert(W1.shape == (nh,nx))\n",
        "assert(b1.shape == (nh,1))\n",
        "assert(W2.shape == (ny,nh))\n",
        "assert(b2.shape == (ny,1))"
      ],
      "metadata": {
        "id": "ib3MZPRH-nH3"
      },
      "execution_count": null,
      "outputs": []
    },
    {
      "cell_type": "code",
      "source": [
        "Z1=np.dot(W1,X) + b1\n",
        "A1=np.tanh(Z1)\n",
        "Z2=np.dot(W2,A1) + b2\n",
        "A2=1/(1+np.exp(-Z2))\n"
      ],
      "metadata": {
        "id": "9UPXvpCS_B5w"
      },
      "execution_count": null,
      "outputs": []
    },
    {
      "cell_type": "code",
      "source": [
        "assert(A2.shape == (1,X.shape[1]))"
      ],
      "metadata": {
        "id": "C6dsqi6z_l51"
      },
      "execution_count": null,
      "outputs": []
    },
    {
      "cell_type": "code",
      "source": [
        "cost = -np.sum(np.multiply(np.log(A2),y) + np.multiply((1-y), np.log(1-A2))) / m_train\n",
        "print(cost)"
      ],
      "metadata": {
        "colab": {
          "base_uri": "https://localhost:8080/"
        },
        "id": "bCJIUYOxOZMx",
        "outputId": "baa4641c-d47a-4d24-bed1-61a063d21698"
      },
      "execution_count": null,
      "outputs": [
        {
          "output_type": "stream",
          "name": "stdout",
          "text": [
            "0.6951399413442905\n"
          ]
        }
      ]
    },
    {
      "cell_type": "code",
      "source": [
        "dZ2= A2-y\n",
        "dW2= (1/m_train) * np.dot(dZ2, A1.T)\n",
        "db2= (1/m_train) * np.sum(dZ2, axis=1, keepdims=True)\n",
        "dZ1= np.multiply(np.dot(W2.T, dZ2), 1- np.power(A1,2))\n",
        "dW1= (1/m_train) * np.dot(dZ1, X.T)\n",
        "db1= (1/m_train) * np.sum(dZ1, axis=1, keepdims=True)\n",
        "\n"
      ],
      "metadata": {
        "id": "X5Dj4S97AuT9"
      },
      "execution_count": null,
      "outputs": []
    },
    {
      "cell_type": "markdown",
      "source": [
        "PYTHON IMPLEMENTATION"
      ],
      "metadata": {
        "id": "gk3f-iPPz2Ef"
      }
    },
    {
      "cell_type": "code",
      "source": [
        "learning_rate=0.052\n",
        "max_iteration=2500\n",
        "cost=np.zeros((max_iteration))\n",
        "\n",
        "for i in range(max_iteration):\n",
        "  #forward propagation\n",
        "  Z1=np.dot(W1,X) + b1\n",
        "  A1=np.tanh(Z1)\n",
        "  Z2=np.dot(W2,A1) + b2\n",
        "  A2=1/(1+np.exp(-Z2))\n",
        "\n",
        "  #calculate cost\n",
        "  cost[i]= -np.sum(np.multiply(np.log(A2),y) + np.multiply((1-y), np.log(1-A2))) /m_train\n",
        "\n",
        "  #calculate derivatives\n",
        "\n",
        "  #output layer\n",
        "  dZ2= A2-y\n",
        "  dW2= (1/m_train) * np.dot(dZ2, A1.T)\n",
        "  db2= (1/m_train) * np.sum(dZ2, axis=1, keepdims=True)\n",
        "  #hidden layer\n",
        "  dZ1= np.multiply(np.dot(W2.T, dZ2), 1- np.power(A1,2))\n",
        "  dW1= (1/m_train) * np.dot(dZ1, X.T)\n",
        "  db1= (1/m_train) * np.sum(dZ1, axis=1, keepdims=True)\n",
        "  #update parameters\n",
        "  W1=W1-learning_rate*dW1\n",
        "  b1=b1-learning_rate*db1\n",
        "  W2=W2-learning_rate*dW2\n",
        "  b2=b2-learning_rate*db2\n",
        "\n",
        "print(cost[i])"
      ],
      "metadata": {
        "colab": {
          "base_uri": "https://localhost:8080/"
        },
        "id": "1fDcq1nxmyak",
        "outputId": "9cc118b1-8177-4af1-ed47-b826ba6d0627"
      },
      "execution_count": null,
      "outputs": [
        {
          "output_type": "stream",
          "name": "stdout",
          "text": [
            "0.0023694518707030633\n"
          ]
        }
      ]
    },
    {
      "cell_type": "code",
      "source": [
        "plt.plot(cost)\n",
        "plt.ylabel('cost')\n",
        "plt.xlabel('iterations')\n",
        "plt.title('learning_rate')\n",
        "plt.show()"
      ],
      "metadata": {
        "colab": {
          "base_uri": "https://localhost:8080/",
          "height": 472
        },
        "id": "TnL3z1vRplUi",
        "outputId": "2310e48b-ddcb-4e83-ad0d-2b6980373f88"
      },
      "execution_count": null,
      "outputs": [
        {
          "output_type": "display_data",
          "data": {
            "text/plain": [
              "<Figure size 640x480 with 1 Axes>"
            ],
            "image/png": "[encoded data removed]"
          },
          "metadata": {}
        }
      ]
    },
    {
      "cell_type": "markdown",
      "source": [
        "PREDICTIONS"
      ],
      "metadata": {
        "id": "CfX7pmjMrh82"
      }
    },
    {
      "cell_type": "code",
      "source": [
        "def predict(W1,W2,b1,b2,X,m):\n",
        "  yhat=np.zeros((1,m))\n",
        "\n",
        "  Z1=np.dot(W1,X) + b1\n",
        "  A1=np.tanh(Z1)\n",
        "  Z2=np.dot(W2,A1) + b2\n",
        "  A2=1/(1+np.exp(-Z2))\n",
        "\n",
        "  for i in range(m):\n",
        "    if A2[0,i] > 0.5:\n",
        "      yhat[0,i]=1\n",
        "    else:\n",
        "      yhat[0,i]=0\n",
        "  return yhat"
      ],
      "metadata": {
        "id": "6AbU9fUbrk0S"
      },
      "execution_count": null,
      "outputs": []
    },
    {
      "cell_type": "code",
      "source": [
        "y_hat_train= predict(W1,W2,b1,b2,X,m_train)"
      ],
      "metadata": {
        "id": "6Yz4QHNfs0Vh"
      },
      "execution_count": null,
      "outputs": []
    },
    {
      "cell_type": "code",
      "source": [
        "from sklearn.metrics import confusion_matrix"
      ],
      "metadata": {
        "id": "4ujO6XPutWTc"
      },
      "execution_count": null,
      "outputs": []
    },
    {
      "cell_type": "code",
      "source": [
        "#show confusion_matrix(TN,FP,FN,TP)\n",
        "cm = confusion_matrix(train_set_y.T, y_hat_train.T)"
      ],
      "metadata": {
        "id": "fqjEAiu3tgi5"
      },
      "execution_count": null,
      "outputs": []
    },
    {
      "cell_type": "code",
      "source": [
        "TN,FP=cm[0]\n",
        "FN,TP=cm[1]"
      ],
      "metadata": {
        "id": "Sl-hvi6vtgRh"
      },
      "execution_count": null,
      "outputs": []
    },
    {
      "cell_type": "code",
      "source": [
        "TN,FP,FN,TP"
      ],
      "metadata": {
        "colab": {
          "base_uri": "https://localhost:8080/"
        },
        "id": "9DT3XbWcuCIn",
        "outputId": "ab8725e3-4be1-4765-8300-cd63ca832ab9"
      },
      "execution_count": null,
      "outputs": [
        {
          "output_type": "execute_result",
          "data": {
            "text/plain": [
              "(137, 0, 0, 72)"
            ]
          },
          "metadata": {},
          "execution_count": 99
        }
      ]
    },
    {
      "cell_type": "code",
      "source": [
        "y_hat_test=predict(W1,W2,b1,b2,X_test,X_test.shape[1])"
      ],
      "metadata": {
        "id": "IJKXMKsf-I9j"
      },
      "execution_count": null,
      "outputs": []
    },
    {
      "cell_type": "code",
      "source": [
        "confusion_matrix(test_set_y.T,y_hat_test.T)"
      ],
      "metadata": {
        "id": "SsO6cQeC_LGg",
        "colab": {
          "base_uri": "https://localhost:8080/"
        },
        "outputId": "99371891-1f46-47d6-fa29-77520e874d70"
      },
      "execution_count": null,
      "outputs": [
        {
          "output_type": "execute_result",
          "data": {
            "text/plain": [
              "array([[12,  5],\n",
              "       [11, 22]])"
            ]
          },
          "metadata": {},
          "execution_count": 101
        }
      ]
    },
    {
      "cell_type": "code",
      "source": [
        "from sklearn.metrics import accuracy_score"
      ],
      "metadata": {
        "id": "umWQvi4F_gNj"
      },
      "execution_count": null,
      "outputs": []
    },
    {
      "cell_type": "code",
      "source": [
        "accuracy_score(test_set_y.T,y_hat_test.T)"
      ],
      "metadata": {
        "colab": {
          "base_uri": "https://localhost:8080/"
        },
        "id": "-gKqRm4H_gKO",
        "outputId": "fd92de54-a435-4f2e-af1c-58c8ba1f2171"
      },
      "execution_count": null,
      "outputs": [
        {
          "output_type": "execute_result",
          "data": {
            "text/plain": [
              "0.68"
            ]
          },
          "metadata": {},
          "execution_count": 103
        }
      ]
    },
    {
      "cell_type": "code",
      "source": [],
      "metadata": {
        "id": "9zQJlhQkUTE-"
      },
      "execution_count": null,
      "outputs": []
    }
  ]
}